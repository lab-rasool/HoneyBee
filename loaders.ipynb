{
 "cells": [
  {
   "cell_type": "markdown",
   "metadata": {},
   "source": [
    "## Climical"
   ]
  },
  {
   "cell_type": "code",
   "execution_count": 1,
   "metadata": {},
   "outputs": [
    {
     "name": "stderr",
     "output_type": "stream",
     "text": [
      "INFO:albumentations.check_version:A new version of Albumentations is available: 1.4.23 (you have 1.4.13). Upgrade using: pip install -U albumentations. To disable automatic update checks, set the environment variable NO_ALBUMENTATIONS_UPDATE to 1.\n"
     ]
    },
    {
     "name": "stdout",
     "output_type": "stream",
     "text": [
      "LlC l x70iCWL-I 4 UUID:BD8435C3-C525-4720-8843-EC2CAE22B785 TCGA- OR-A5L -01A-PR Redacted 111 111 III 1111111111 I 1111 I III I I II 1111111111111111111 11111111111111  II III III III 1 1 1 1 1 1 1 1 1 1III 110111111111111111111IIH I11111111111111II IllI111111111111 Pft Thespecimen of a to aly incest , 28g and rrs6m .iring 65x30 x3f rn with a rounded meduilary nom 38 It 4 x rm a grm3 !brr a cu t uface Tice a cc t Coro SWAMto nodulantyP1ght adrenal turnoc r production of testo and. ar crog ra-right al ?1 Ad enaE; adenoma acrflscoplc . riptt A- Representative aakr Ilicroscoplc- Descriptio . eaftm adranal0atti. sawe -W1tumscxUxd nodes composed of , markedly pleornorpt c epitheikd c efts.see photgreph Withabx ,darlt mmy, cytoplasm andonlyDelanl arms ofdeed cols. Up to acolts per W iPF are pies g tMth occasional atypical mitoses .No c sutar, sinusoidal or vacular Invasion is seen .Exdslon appears complete. COMMEN T : Theappearances are most consistent with an adrenal Garda  carcinoma. Or .  reports demonstrates 5 of the Vy sia mien of --- malignancy comprising a mitotic rateof 6 per smpf, edypical mitoses a diff use growth pattern, cytological atypla and ma ,tliccytoplasm. There is no vascular orskxnokW Irv n.There i snoextra. spread. There Is no emulative necrosis. T em Is no perineural growfticed onthese Bides local WW WW appeare complete. lmmunOhistOchemiecy is as follows Kt-67 proliferation Irxdex : 8 1GF2 Diffusely positive pednucloar dot-lice pSUBm Gluc ocortfcoid rte: Strong diffusely 4 positive Is immwnoistrhqmM.ai proff ie is typical of adowwW carcinoma and further supports the diatgtx:sis ofThe at renal lesion leaLOW GRADE ADRENAL. CORTICAL CARCINOMA. Themalignant ekdisplay onoocytic cytological features .The tumour malignancy. Final Summary ,WRENAL GLAND, RIGHT ADRENAL CORTICAL CARCINOMA; MARGINS CLEAR Page tof t sioferred br. ,. -....., ,....rA.i:wxarr ..r....:,:r.:S :.ta.3cai tT? uu-ie;;.;.?t:i:: Y. !:Y!.. :7if F?ttaCtri5:??:.Fir;2;,:;i..f..:.Requesting loators ikon: ROW Tc MISOPAThOLQOY F rucj tW: . MICRO SCOPIC: The adrenal lesion Is a LO WGRADE ADRENAL CORTICAL CARCINOMA. The mal jgnW cellsc p aya ofmcytologi cal featLires .The tumour demonstrates 5 of thecy compris ing arnitotla rate of 6 per 50 hpf,atypical mitoses a d g rowth pattern, cytological atypla and eosinophillo .icytoplasm .There is no vascular or sinusoidal invasion .There is noextra -adrenal spread. There is no coagulative necrosis.There Is noparineural growth .Based on these slides local excision appears complete. lmmunohist ochernistry Is as follows; l-67 proliferative index: 8 1GF Diffusely positive perinuclear do-like pattern Gluc or. orticoid receptor. Strongly diffusely 4 positive This immunchistoc herniaal profile is types of adre nal cortical carcinoma andfurther supports the diagnosis of malignancy. SUMMARY: Adrenal gland: Adrenal cortical carcinoma. REPORTING PATHOLOGIST: Eiactr nfc 5i tuie 71 DinFncsis Di;crNarry L ---- j Prmaty u,cr Site Disrrenry IH!P1 A Dicrrrpanty ---- -7--- Prioi t1? nsnrvi..n ..., --1 - 1Giterla IAM Dw01Syn nrunn narv Notr Case is circle: Rc J.e wer lnil r\n"
     ]
    }
   ],
   "source": [
    "from honeybee.loaders import PDF\n",
    "\n",
    "pdf_report = PDF(chunk_size=512, chunk_overlap=10)\n",
    "text = pdf_report.read(\"/mnt/d/TCGA/raw/TCGA-ACC/raw/TCGA-OR-A5JL/Pathology Report/c9f9dc8b-68ca-4a7e-be69-4d23df5a51a1/TCGA-OR-A5JL.BD8435C3-C525-472C-8B43-EC2CAE22B785.PDF\")\n",
    "print(text)"
   ]
  },
  {
   "cell_type": "code",
   "execution_count": 12,
   "metadata": {},
   "outputs": [
    {
     "name": "stdout",
     "output_type": "stream",
     "text": [
      "[{'last_hidden_state': tensor([[[-0.4110,  0.0814, -0.4249,  ...,  0.3898,  0.0222,  0.0550],\n",
      "         [-1.1198,  0.2395, -0.6017,  ...,  0.4274, -0.6409,  0.0850],\n",
      "         [-0.9614,  0.2595, -0.2410,  ..., -0.0035, -0.3290,  0.3781],\n",
      "         ...,\n",
      "         [-0.3459, -0.1211, -0.1909,  ...,  0.3283, -0.0032, -0.0346],\n",
      "         [-1.1277,  0.1264, -0.3407,  ..., -0.0244, -0.5386, -0.2812],\n",
      "         [-0.6299,  0.0662, -0.0637,  ...,  0.3960,  0.2384,  0.1344]]]), 'pooler_output': tensor([[-0.1948,  0.1615,  0.1121,  ...,  0.4986,  0.1255,  0.1712]])}]\n"
     ]
    }
   ],
   "source": [
    "from honeybee.models import HuggingFaceEmbedder\n",
    "\n",
    "hfe = HuggingFaceEmbedder(model_name=\"UFNLP/gatortron-base\")\n",
    "embeddings = hfe.generate_embeddings(text)\n",
    "print(embeddings)"
   ]
  },
  {
   "cell_type": "code",
   "execution_count": 11,
   "metadata": {},
   "outputs": [
    {
     "name": "stdout",
     "output_type": "stream",
     "text": [
      "BaseModelOutputWithPoolingAndCrossAttentions(last_hidden_state=tensor([[[-0.5812, -0.1380,  0.0131,  ...,  0.4249, -0.2754,  0.3081],\n",
      "         [-0.8130, -0.0279, -0.2104,  ...,  0.3547, -0.5298,  0.1745],\n",
      "         [-0.6921,  0.0258,  0.0531,  ..., -0.1323, -0.3493,  0.3336],\n",
      "         ...,\n",
      "         [-1.0973, -0.1150,  0.0340,  ...,  0.4911, -0.3971, -0.3358],\n",
      "         [-0.3989,  0.4939, -0.1745,  ...,  0.1806, -0.8295,  0.3463],\n",
      "         [-0.7222,  0.2240, -0.2114,  ...,  0.2313, -0.3922,  0.2361]]],\n",
      "       grad_fn=<NativeLayerNormBackward0>), pooler_output=tensor([[-0.0213, -0.1168, -0.2073,  ..., -0.0087,  0.0562,  0.2460]],\n",
      "       grad_fn=<TanhBackward0>), hidden_states=None, past_key_values=None, attentions=None, cross_attentions=None)\n"
     ]
    }
   ],
   "source": [
    "from transformers import AutoModel, AutoTokenizer, AutoConfig\n",
    "\n",
    "tokenizer= AutoTokenizer.from_pretrained('UFNLP/gatortron-base')\n",
    "config=AutoConfig.from_pretrained('UFNLP/gatortron-base')\n",
    "mymodel=AutoModel.from_pretrained('UFNLP/gatortron-base')\n",
    "\n",
    "encoded_input=tokenizer(text[:512], return_tensors=\"pt\")\n",
    "encoded_output = mymodel(**encoded_input)\n",
    "print (encoded_output)\n"
   ]
  },
  {
   "cell_type": "code",
   "execution_count": 9,
   "metadata": {},
   "outputs": [
    {
     "name": "stdout",
     "output_type": "stream",
     "text": [
      "torch.Size([1, 210, 1024])\n"
     ]
    }
   ],
   "source": [
    "print(encoded_output.last_hidden_state.shape)"
   ]
  },
  {
   "cell_type": "markdown",
   "metadata": {},
   "source": [
    "## Pathology"
   ]
  },
  {
   "cell_type": "code",
   "execution_count": null,
   "metadata": {},
   "outputs": [],
   "source": []
  },
  {
   "cell_type": "markdown",
   "metadata": {},
   "source": [
    "## Radiology"
   ]
  },
  {
   "cell_type": "code",
   "execution_count": null,
   "metadata": {},
   "outputs": [],
   "source": []
  }
 ],
 "metadata": {
  "kernelspec": {
   "display_name": "honeybee",
   "language": "python",
   "name": "python3"
  },
  "language_info": {
   "codemirror_mode": {
    "name": "ipython",
    "version": 3
   },
   "file_extension": ".py",
   "mimetype": "text/x-python",
   "name": "python",
   "nbconvert_exporter": "python",
   "pygments_lexer": "ipython3",
   "version": "3.11.9"
  }
 },
 "nbformat": 4,
 "nbformat_minor": 2
}
