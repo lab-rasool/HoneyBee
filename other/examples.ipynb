{
 "cells": [
  {
   "cell_type": "code",
   "execution_count": 1,
   "metadata": {},
   "outputs": [
    {
     "data": {
      "text/plain": [
       "True"
      ]
     },
     "execution_count": 1,
     "metadata": {},
     "output_type": "execute_result"
    }
   ],
   "source": [
    "import gc\n",
    "import os\n",
    "import json\n",
    "import datasets\n",
    "from dotenv import load_dotenv\n",
    "import minds\n",
    "import numpy as np\n",
    "import pandas as pd\n",
    "import pyarrow as pa\n",
    "import pyarrow.parquet as pq\n",
    "import torch\n",
    "from huggingface_hub import HfApi, HfFolder, login\n",
    "from torch.utils.data import DataLoader, Dataset\n",
    "from tqdm import tqdm\n",
    "import warnings\n",
    "\n",
    "from honeybee.loaders import (\n",
    "    PDFreport,\n",
    "    Scan,\n",
    "    Slide,\n",
    "    generate_summary_from_json,\n",
    "    get_chunk_text,\n",
    ")\n",
    "from honeybee.models import REMEDIS, UNI, HuggingFaceEmbedder, TissueDetector\n",
    "\n",
    "os.environ[\"TOKENIZERS_PARALLELISM\"] = \"false\"\n",
    "warnings.filterwarnings(\"ignore\")\n",
    "load_dotenv()"
   ]
  },
  {
   "cell_type": "code",
   "execution_count": 2,
   "metadata": {},
   "outputs": [],
   "source": [
    "def manifest_to_df(manifest_path, modality):\n",
    "    with open(manifest_path, \"r\") as f:\n",
    "        manifest = json.load(f)\n",
    "\n",
    "    # Initialize an empty DataFrame for the modality\n",
    "    modality_df = pd.DataFrame()\n",
    "\n",
    "    # Process each patient in the manifest\n",
    "    for patient in manifest:\n",
    "        patient_id = patient[\"PatientID\"]\n",
    "        gdc_case_id = patient[\"gdc_case_id\"]\n",
    "\n",
    "        # Check if the current patient has the requested modality\n",
    "        if modality in patient:\n",
    "            # Convert the list of dictionaries into a DataFrame\n",
    "            df = pd.DataFrame(patient[modality])\n",
    "            # Add 'PatientID' and 'gdc_case_id' columns\n",
    "            df[\"PatientID\"] = patient_id\n",
    "            df[\"gdc_case_id\"] = gdc_case_id\n",
    "\n",
    "            # Append the new data to the existing DataFrame for this modality\n",
    "            modality_df = pd.concat([modality_df, df], ignore_index=True)\n",
    "\n",
    "    # Check if the modality DataFrame is not empty before returning\n",
    "    if not modality_df.empty:\n",
    "        return modality_df\n",
    "    else:\n",
    "        return None"
   ]
  },
  {
   "cell_type": "markdown",
   "metadata": {},
   "source": [
    "## Pathology Reports"
   ]
  },
  {
   "cell_type": "code",
   "execution_count": 10,
   "metadata": {},
   "outputs": [],
   "source": [
    "!rm -rf \"/mnt/d/TCGA/parquet/Pathology Report (gatortron-base)/\""
   ]
  },
  {
   "cell_type": "code",
   "execution_count": 4,
   "metadata": {},
   "outputs": [
    {
     "name": "stderr",
     "output_type": "stream",
     "text": [
      "Processing TCGA-ACC:   4%|▍         | 4/92 [00:00<00:05, 16.46it/s]"
     ]
    },
    {
     "name": "stdout",
     "output_type": "stream",
     "text": [
      "Error processing TCGA-OR-A5JL: Must have equal len keys and value when setting with an iterable\n",
      "Error processing TCGA-OR-A5LL: Must have equal len keys and value when setting with an iterable\n",
      "Error processing TCGA-OR-A5J8: Must have equal len keys and value when setting with an iterable\n",
      "Error processing TCGA-P6-A5OG: Must have equal len keys and value when setting with an iterable\n"
     ]
    },
    {
     "name": "stderr",
     "output_type": "stream",
     "text": [
      "Processing TCGA-ACC:   9%|▊         | 8/92 [00:00<00:04, 17.66it/s]"
     ]
    },
    {
     "name": "stdout",
     "output_type": "stream",
     "text": [
      "Error processing TCGA-OR-A5KB: Must have equal len keys and value when setting with an iterable\n",
      "Error processing TCGA-OR-A5J7: Must have equal len keys and value when setting with an iterable\n",
      "Error processing TCGA-OR-A5JP: Must have equal len keys and value when setting with an iterable\n",
      "Error processing TCGA-OR-A5KS: Must have equal len keys and value when setting with an iterable\n"
     ]
    },
    {
     "name": "stderr",
     "output_type": "stream",
     "text": [
      "Processing TCGA-ACC:  13%|█▎        | 12/92 [00:00<00:04, 18.43it/s]"
     ]
    },
    {
     "name": "stdout",
     "output_type": "stream",
     "text": [
      "Error processing TCGA-OR-A5K8: Must have equal len keys and value when setting with an iterable\n",
      "Error processing TCGA-OR-A5LT: Must have equal len keys and value when setting with an iterable\n",
      "Error processing TCGA-OR-A5JQ: Must have equal len keys and value when setting with an iterable\n",
      "Error processing TCGA-OR-A5LO: Must have equal len keys and value when setting with an iterable\n",
      "Error processing TCGA-OR-A5KV: Must have equal len keys and value when setting with an iterable\n"
     ]
    },
    {
     "name": "stderr",
     "output_type": "stream",
     "text": [
      "Processing TCGA-ACC:  17%|█▋        | 16/92 [00:00<00:04, 18.29it/s]"
     ]
    },
    {
     "name": "stdout",
     "output_type": "stream",
     "text": [
      "Error processing TCGA-OR-A5JD: Must have equal len keys and value when setting with an iterable\n",
      "Error processing TCGA-OR-A5JY: Must have equal len keys and value when setting with an iterable\n",
      "Error processing TCGA-OR-A5L5: Must have equal len keys and value when setting with an iterable\n",
      "Error processing TCGA-OR-A5K6: Must have equal len keys and value when setting with an iterable\n",
      "Error processing TCGA-OR-A5KX: Must have equal len keys and value when setting with an iterable\n"
     ]
    },
    {
     "name": "stderr",
     "output_type": "stream",
     "text": [
      "Processing TCGA-ACC:  24%|██▍       | 22/92 [00:01<00:03, 19.84it/s]"
     ]
    },
    {
     "name": "stdout",
     "output_type": "stream",
     "text": [
      "Error processing TCGA-OR-A5JV: Must have equal len keys and value when setting with an iterable\n",
      "Error processing TCGA-OR-A5L1: Must have equal len keys and value when setting with an iterable\n",
      "Error processing TCGA-PK-A5H8: Must have equal len keys and value when setting with an iterable\n",
      "Error processing TCGA-OR-A5JX: Must have equal len keys and value when setting with an iterable\n"
     ]
    },
    {
     "name": "stderr",
     "output_type": "stream",
     "text": [
      "Processing TCGA-ACC:  28%|██▊       | 26/92 [00:01<00:03, 17.98it/s]"
     ]
    },
    {
     "name": "stdout",
     "output_type": "stream",
     "text": [
      "Error processing TCGA-OR-A5JA: Must have equal len keys and value when setting with an iterable\n",
      "Error processing TCGA-OR-A5KU: Must have equal len keys and value when setting with an iterable\n",
      "Error processing TCGA-OR-A5JH: Must have equal len keys and value when setting with an iterable\n",
      "Error processing TCGA-OR-A5JO: Must have equal len keys and value when setting with an iterable\n"
     ]
    },
    {
     "name": "stderr",
     "output_type": "stream",
     "text": [
      "Processing TCGA-ACC:  32%|███▏      | 29/92 [00:01<00:03, 19.22it/s]"
     ]
    },
    {
     "name": "stdout",
     "output_type": "stream",
     "text": [
      "Error processing TCGA-OR-A5L8: Must have equal len keys and value when setting with an iterable\n",
      "Error processing TCGA-OR-A5LN: Must have equal len keys and value when setting with an iterable\n",
      "Error processing TCGA-PK-A5HA: Must have equal len keys and value when setting with an iterable\n",
      "Error processing TCGA-OR-A5J4: Must have equal len keys and value when setting with an iterable\n",
      "Error processing TCGA-OR-A5KY: Must have equal len keys and value when setting with an iterable\n"
     ]
    },
    {
     "name": "stderr",
     "output_type": "stream",
     "text": [
      "Processing TCGA-ACC:  38%|███▊      | 35/92 [00:01<00:02, 20.33it/s]"
     ]
    },
    {
     "name": "stdout",
     "output_type": "stream",
     "text": [
      "Error processing TCGA-OR-A5KW: Must have equal len keys and value when setting with an iterable\n",
      "Error processing TCGA-OR-A5KP: Must have equal len keys and value when setting with an iterable\n",
      "Error processing TCGA-OR-A5K2: Must have equal len keys and value when setting with an iterable\n",
      "Error processing TCGA-OR-A5JW: Must have equal len keys and value when setting with an iterable\n"
     ]
    },
    {
     "name": "stderr",
     "output_type": "stream",
     "text": [
      "Processing TCGA-ACC:  41%|████▏     | 38/92 [00:01<00:02, 19.73it/s]"
     ]
    },
    {
     "name": "stdout",
     "output_type": "stream",
     "text": [
      "Error processing TCGA-OR-A5K4: Must have equal len keys and value when setting with an iterable\n",
      "Error processing TCGA-OR-A5JG: Must have equal len keys and value when setting with an iterable\n",
      "Error processing TCGA-OR-A5LR: Must have equal len keys and value when setting with an iterable\n",
      "Error processing TCGA-OR-A5LF: Must have equal len keys and value when setting with an iterable\n",
      "Error processing TCGA-OR-A5J5: Must have equal len keys and value when setting with an iterable\n"
     ]
    },
    {
     "name": "stderr",
     "output_type": "stream",
     "text": [
      "Processing TCGA-ACC:  45%|████▍     | 41/92 [00:02<00:02, 20.09it/s]"
     ]
    },
    {
     "name": "stdout",
     "output_type": "stream",
     "text": [
      "Error processing TCGA-OR-A5JS: Must have equal len keys and value when setting with an iterable\n",
      "Error processing TCGA-PK-A5H9: Must have equal len keys and value when setting with an iterable\n",
      "Error processing TCGA-P6-A5OF: Must have equal len keys and value when setting with an iterable\n",
      "Error processing TCGA-PK-A5HC: Must have equal len keys and value when setting with an iterable\n"
     ]
    },
    {
     "name": "stderr",
     "output_type": "stream",
     "text": [
      "Processing TCGA-ACC:  52%|█████▏    | 48/92 [00:02<00:02, 18.27it/s]"
     ]
    },
    {
     "name": "stdout",
     "output_type": "stream",
     "text": [
      "Error processing TCGA-OR-A5J2: Must have equal len keys and value when setting with an iterable\n",
      "Error processing TCGA-P6-A5OH: Must have equal len keys and value when setting with an iterable\n",
      "Error processing TCGA-PA-A5YG: Must have equal len keys and value when setting with an iterable\n",
      "Error processing TCGA-OR-A5L4: Must have equal len keys and value when setting with an iterable\n"
     ]
    },
    {
     "name": "stderr",
     "output_type": "stream",
     "text": [
      "Processing TCGA-ACC:  55%|█████▌    | 51/92 [00:02<00:02, 18.98it/s]"
     ]
    },
    {
     "name": "stdout",
     "output_type": "stream",
     "text": [
      "Error processing TCGA-OR-A5JZ: Must have equal len keys and value when setting with an iterable\n",
      "Error processing TCGA-OR-A5KZ: Must have equal len keys and value when setting with an iterable\n",
      "Error processing TCGA-PK-A5HB: Must have equal len keys and value when setting with an iterable\n",
      "Error processing TCGA-OR-A5LK: Must have equal len keys and value when setting with an iterable\n",
      "Error processing TCGA-OR-A5JJ: Must have equal len keys and value when setting with an iterable\n"
     ]
    },
    {
     "name": "stderr",
     "output_type": "stream",
     "text": [
      "Processing TCGA-ACC:  58%|█████▊    | 53/92 [00:02<00:02, 19.21it/s]"
     ]
    },
    {
     "name": "stdout",
     "output_type": "stream",
     "text": [
      "Error processing TCGA-OR-A5JR: Must have equal len keys and value when setting with an iterable\n"
     ]
    },
    {
     "name": "stderr",
     "output_type": "stream",
     "text": [
      "Processing TCGA-ACC:  63%|██████▎   | 58/92 [00:03<00:02, 15.56it/s]"
     ]
    },
    {
     "name": "stdout",
     "output_type": "stream",
     "text": [
      "Error processing TCGA-OR-A5L2: Must have equal len keys and value when setting with an iterable\n",
      "Error processing TCGA-OR-A5KQ: Must have equal len keys and value when setting with an iterable\n",
      "Error processing TCGA-OR-A5JK: Must have equal len keys and value when setting with an iterable\n",
      "Error processing TCGA-OR-A5J9: Must have equal len keys and value when setting with an iterable\n",
      "Error processing TCGA-OU-A5PI: Must have equal len keys and value when setting with an iterable\n"
     ]
    },
    {
     "name": "stderr",
     "output_type": "stream",
     "text": [
      "Processing TCGA-ACC:  68%|██████▊   | 63/92 [00:03<00:01, 17.39it/s]"
     ]
    },
    {
     "name": "stdout",
     "output_type": "stream",
     "text": [
      "Error processing TCGA-OR-A5L3: Must have equal len keys and value when setting with an iterable\n",
      "Error processing TCGA-OR-A5J1: Must have equal len keys and value when setting with an iterable\n",
      "Error processing TCGA-OR-A5KO: Must have equal len keys and value when setting with an iterable\n",
      "Error processing TCGA-OR-A5JI: Must have equal len keys and value when setting with an iterable\n"
     ]
    },
    {
     "name": "stderr",
     "output_type": "stream",
     "text": [
      "Processing TCGA-ACC:  74%|███████▍  | 68/92 [00:03<00:01, 18.84it/s]"
     ]
    },
    {
     "name": "stdout",
     "output_type": "stream",
     "text": [
      "Error processing TCGA-OR-A5JE: Must have equal len keys and value when setting with an iterable\n",
      "Error processing TCGA-OR-A5JC: Must have equal len keys and value when setting with an iterable\n",
      "Error processing TCGA-OR-A5JT: Must have equal len keys and value when setting with an iterable\n",
      "Error processing TCGA-OR-A5L9: Must have equal len keys and value when setting with an iterable\n",
      "Error processing TCGA-OR-A5LE: Must have equal len keys and value when setting with an iterable\n"
     ]
    },
    {
     "name": "stderr",
     "output_type": "stream",
     "text": [
      "Processing TCGA-ACC:  78%|███████▊  | 72/92 [00:03<00:01, 18.80it/s]"
     ]
    },
    {
     "name": "stdout",
     "output_type": "stream",
     "text": [
      "Error processing TCGA-OR-A5K3: Must have equal len keys and value when setting with an iterable\n",
      "Error processing TCGA-OR-A5J6: Must have equal len keys and value when setting with an iterable\n",
      "Error processing TCGA-OR-A5LH: Must have equal len keys and value when setting with an iterable\n",
      "Error processing TCGA-OR-A5JU: Must have equal len keys and value when setting with an iterable\n"
     ]
    },
    {
     "name": "stderr",
     "output_type": "stream",
     "text": [
      "Processing TCGA-ACC:  80%|████████  | 74/92 [00:04<00:00, 18.45it/s]"
     ]
    },
    {
     "name": "stdout",
     "output_type": "stream",
     "text": [
      "Error processing TCGA-OR-A5K5: Must have equal len keys and value when setting with an iterable\n",
      "Error processing TCGA-OR-A5JB: Must have equal len keys and value when setting with an iterable\n",
      "Error processing TCGA-OR-A5K9: Must have equal len keys and value when setting with an iterable\n",
      "Error processing TCGA-OR-A5LD: Must have equal len keys and value when setting with an iterable\n"
     ]
    },
    {
     "name": "stderr",
     "output_type": "stream",
     "text": [
      "Processing TCGA-ACC:  86%|████████▌ | 79/92 [00:04<00:00, 19.15it/s]"
     ]
    },
    {
     "name": "stdout",
     "output_type": "stream",
     "text": [
      "Error processing TCGA-OR-A5JF: Must have equal len keys and value when setting with an iterable\n",
      "Error processing TCGA-OR-A5KT: Must have equal len keys and value when setting with an iterable\n",
      "Error processing TCGA-OR-A5J3: Must have equal len keys and value when setting with an iterable\n",
      "Error processing TCGA-OR-A5LP: Must have equal len keys and value when setting with an iterable\n",
      "Error processing TCGA-OR-A5LM: Must have equal len keys and value when setting with an iterable\n"
     ]
    },
    {
     "name": "stderr",
     "output_type": "stream",
     "text": [
      "Processing TCGA-ACC:  92%|█████████▏| 85/92 [00:04<00:00, 20.79it/s]"
     ]
    },
    {
     "name": "stdout",
     "output_type": "stream",
     "text": [
      "Error processing TCGA-OR-A5LA: Must have equal len keys and value when setting with an iterable\n",
      "Error processing TCGA-OR-A5K0: Must have equal len keys and value when setting with an iterable\n",
      "Error processing TCGA-OR-A5LI: Must have equal len keys and value when setting with an iterable\n",
      "Error processing TCGA-OR-A5LS: Must have equal len keys and value when setting with an iterable\n",
      "Error processing TCGA-OR-A5LC: Must have equal len keys and value when setting with an iterable\n"
     ]
    },
    {
     "name": "stderr",
     "output_type": "stream",
     "text": [
      "Processing TCGA-ACC:  99%|█████████▉| 91/92 [00:04<00:00, 20.80it/s]"
     ]
    },
    {
     "name": "stdout",
     "output_type": "stream",
     "text": [
      "Error processing TCGA-OR-A5K1: Must have equal len keys and value when setting with an iterable\n",
      "Error processing TCGA-OR-A5LB: Must have equal len keys and value when setting with an iterable\n",
      "Error processing TCGA-OR-A5LG: Must have equal len keys and value when setting with an iterable\n",
      "Error processing TCGA-OR-A5JM: Must have equal len keys and value when setting with an iterable\n",
      "Error processing TCGA-OR-A5LJ: Must have equal len keys and value when setting with an iterable\n"
     ]
    },
    {
     "name": "stderr",
     "output_type": "stream",
     "text": [
      "Processing TCGA-ACC: 100%|██████████| 92/92 [00:04<00:00, 18.73it/s]\n"
     ]
    },
    {
     "name": "stdout",
     "output_type": "stream",
     "text": [
      "Error processing TCGA-OR-A5L6: Must have equal len keys and value when setting with an iterable\n"
     ]
    }
   ],
   "source": [
    "PROJECTS = [\n",
    "    \"TCGA-ACC\",\n",
    "    # \"TCGA-COAD\",\n",
    "    # \"TCGA-KICH\",\n",
    "    # \"TCGA-LIHC\",\n",
    "    # \"TCGA-PAAD\",\n",
    "    # \"TCGA-SKCM\",\n",
    "    # \"TCGA-UCEC\",\n",
    "    # \"TCGA-BLCA\",\n",
    "    # \"TCGA-DLBC\",\n",
    "    # \"TCGA-KIRC\",\n",
    "    # \"TCGA-LUAD\",\n",
    "    # \"TCGA-PCPG\",\n",
    "    # \"TCGA-STAD\",\n",
    "    # \"TCGA-UCS\",\n",
    "    # \"TCGA-BRCA\",\n",
    "    # \"TCGA-ESCA\",\n",
    "    # \"TCGA-KIRP\",\n",
    "    # \"TCGA-LUSC\",\n",
    "    # \"TCGA-PRAD\",\n",
    "    # \"TCGA-TGCT\",\n",
    "    # \"TCGA-UVM\",\n",
    "    # \"TCGA-CESC\",\n",
    "    # \"TCGA-GBM\",\n",
    "    # \"TCGA-LAML\",\n",
    "    # \"TCGA-MESO\",\n",
    "    # \"TCGA-READ\",\n",
    "    # \"TCGA-THCA\",\n",
    "    # \"TCGA-CHOL\",\n",
    "    # \"TCGA-HNSC\",\n",
    "    # \"TCGA-LGG\",\n",
    "    # \"TCGA-OV\",\n",
    "    # \"TCGA-SARC\",\n",
    "    # \"TCGA-THYM\",\n",
    "]\n",
    "\n",
    "\n",
    "def setup_writer(parquet_path, schema):\n",
    "    \"\"\"Setup or return existing ParquetWriter.\"\"\"\n",
    "    return pq.ParquetWriter(\n",
    "        parquet_path,\n",
    "        schema,\n",
    "        flavor=\"spark\",\n",
    "        compression=\"snappy\",\n",
    "    )\n",
    "\n",
    "for PROJECT in PROJECTS:\n",
    "    DATA_DIR = f\"/mnt/d/TCGA/raw/{PROJECT}\"\n",
    "    MANIFEST_PATH = DATA_DIR + \"/manifest.json\"\n",
    "    MODALITY = \"Pathology Report\"\n",
    "    PARQUET = f\"/mnt/d/TCGA/parquet/{MODALITY}_gatortron-base.parquet\"\n",
    "\n",
    "    df = manifest_to_df(MANIFEST_PATH, MODALITY)\n",
    "    embedding_model = HuggingFaceEmbedder(model_name=\"UFNLP/gatortron-base\")\n",
    "    pdf_report = PDFreport(chunk_size=512, chunk_overlap=10)\n",
    "\n",
    "    if df is None:\n",
    "        print(f\"No data found for {PROJECT}\")\n",
    "        continue\n",
    "\n",
    "    writer = None\n",
    "    schema = None\n",
    "\n",
    "    for index, row in tqdm(df.iterrows(), total=len(df), desc=f\"Processing {PROJECT}\"):\n",
    "        try:\n",
    "            file_path = f\"{DATA_DIR}/raw/{row['PatientID']}/{MODALITY}/{row['id']}/{row['file_name']}\"\n",
    "            report_text = pdf_report.load(file_path)\n",
    "\n",
    "            if report_text:\n",
    "                embeddings = embedding_model.generate_embeddings(report_text)\n",
    "                embedding_bytes = embeddings.tobytes()\n",
    "                df.at[index, \"report_text\"] = report_text\n",
    "                df.at[index, \"embedding\"] = embedding_bytes\n",
    "                df.at[index, \"embedding_shape\"] = embeddings.shape\n",
    "            else:\n",
    "                raise ValueError(\"No report text loaded.\")\n",
    "\n",
    "        except Exception as e:\n",
    "            print(f\"Error processing {row['PatientID']}: {e}\")\n",
    "\n",
    "        table = pa.Table.from_pandas(df.iloc[[index]])\n",
    "        if writer is None or not table.schema.equals(schema):\n",
    "            if writer is not None:\n",
    "                writer.close()\n",
    "            schema = table.schema\n",
    "            writer = setup_writer(PARQUET, schema)\n",
    "\n",
    "        writer.write_table(table)\n",
    "\n",
    "    if writer is not None:\n",
    "        writer.close()\n",
    "\n",
    "    gc.collect()\n",
    "    torch.cuda.empty_cache()"
   ]
  },
  {
   "cell_type": "markdown",
   "metadata": {},
   "source": [
    "## Slide Image"
   ]
  },
  {
   "cell_type": "code",
   "execution_count": 7,
   "metadata": {},
   "outputs": [
    {
     "name": "stderr",
     "output_type": "stream",
     "text": [
      "Processing: 100%|██████████| 1608/1608 [00:07<00:00, 215.71it/s]\n"
     ]
    }
   ],
   "source": [
    "DATA_DIR = \"/mnt/d/TCGA/raw/TCGA-LUAD/\"\n",
    "MANIFEST_PATH = \"/mnt/d/TCGA/raw/TCGA-LUAD/manifest.json\"\n",
    "MODALITY = \"Slide Image\"\n",
    "PARQUET = f\"/mnt/d/TCGA/parquet/{MODALITY}.parquet\"\n",
    "HE_DETECTOR_PATH = \"/mnt/f/Projects/Multimodal-Transformer/models/deep-tissue-detector_densenet_state-dict.pt\"\n",
    "EMBEDDING_MODEL_PATH = (\n",
    "    \"/mnt/d/ckpts/vit_large_patch16_224.dinov2.uni_mass100k/pytorch_model.bin\"\n",
    ")\n",
    "\n",
    "df = manifest_to_df(MANIFEST_PATH, MODALITY)\n",
    "tissue_detector = TissueDetector(model_path=HE_DETECTOR_PATH)\n",
    "embedding_model_path = EMBEDDING_MODEL_PATH\n",
    "uni = UNI()\n",
    "\n",
    "df[\"embedding\"] = None\n",
    "df[\"embedding_shape\"] = None\n",
    "writer = None\n",
    "for index, row in tqdm(df.iterrows(), total=len(df), desc=\"Processing\"):\n",
    "    try:\n",
    "        slide_image_path = f\"{DATA_DIR}/raw/{row['PatientID']}/{MODALITY}/{row['id']}/{row['file_name']}\"\n",
    "        slide = Slide(\n",
    "            slide_image_path,\n",
    "            tileSize=512,\n",
    "            max_patches=100,\n",
    "            visualize=False,\n",
    "            tissue_detector=tissue_detector,\n",
    "        )\n",
    "        patches = slide.load_patches_concurrently(target_patch_size=224)\n",
    "\n",
    "        if patches.shape[0] == 0:\n",
    "            slide = Slide(\n",
    "                slide_image_path,\n",
    "                tileSize=512,\n",
    "                max_patches=1000,\n",
    "                visualize=True,\n",
    "                tissue_detector=tissue_detector,\n",
    "            )\n",
    "            patches = slide.load_patches_concurrently(target_patch_size=224)\n",
    "\n",
    "            if patches.shape[0] == 0:\n",
    "                with open(\"errors.txt\", \"a\") as f:\n",
    "                    f.write(f\"{slide_image_path} | No patches extracted.\\n\")\n",
    "                raise ValueError(\"No patches extracted.\")\n",
    "\n",
    "        embedding = uni.load_model_and_predict(embedding_model_path, patches)\n",
    "        df.at[index, \"embedding_shape\"] = embedding.shape\n",
    "        embedding = embedding.reshape(-1)\n",
    "        embedding = np.array(embedding, dtype=np.float32)\n",
    "        embedding = embedding.tobytes()\n",
    "        df.at[index, \"embedding\"] = embedding\n",
    "    except Exception as e:\n",
    "        with open(\"errors.txt\", \"a\") as f:\n",
    "            f.write(f\"{slide_image_path} | {e}\\n\")\n",
    "        df.at[index, \"embedding\"] = None\n",
    "        continue\n",
    "\n",
    "    if writer is None:\n",
    "        table = pa.Table.from_pandas(df.iloc[[index]])\n",
    "        writer = pq.ParquetWriter(PARQUET, table.schema)\n",
    "    else:\n",
    "        table = pa.Table.from_pandas(df.iloc[[index]])\n",
    "        writer.write_table(table)\n",
    "\n",
    "    del slide, patches, embedding, table\n",
    "    gc.collect()\n",
    "    torch.cuda.empty_cache()\n",
    "\n",
    "if writer is not None:\n",
    "    writer.close()"
   ]
  },
  {
   "cell_type": "markdown",
   "metadata": {},
   "source": [
    "## CT"
   ]
  },
  {
   "cell_type": "code",
   "execution_count": null,
   "metadata": {},
   "outputs": [],
   "source": [
    "DATA_DIR = \"/mnt/d/TCGA/raw/TCGA-LUAD\"\n",
    "MANIFEST_PATH = \"/mnt/d/TCGA/raw/TCGA-LUAD/manifest.json\"\n",
    "MODALITY = \"CT\"\n",
    "PARQUET = f\"/mnt/d/TCGA-LUAD/parquet/{MODALITY}.parquet\"\n",
    "\n",
    "df = manifest_to_df(MANIFEST_PATH, MODALITY)\n",
    "\n",
    "# --- CONFIGURATION ---\n",
    "embedding_model_path = \"/mnt/d/Models/REMEDIS/onnx/cxr-50x1-remedis-m.onnx\"\n",
    "\n",
    "# Define a consistent schema\n",
    "schema = pa.schema(\n",
    "    [\n",
    "        (\"StudyInstanceUID\", pa.string()),\n",
    "        (\"SeriesInstanceUID\", pa.string()),\n",
    "        (\"SeriesDate\", pa.string()),\n",
    "        (\"BodyPartExamined\", pa.string()),\n",
    "        (\"SeriesNumber\", pa.string()),\n",
    "        (\"Collection\", pa.string()),\n",
    "        (\"Manufacturer\", pa.string()),\n",
    "        (\"ManufacturerModelName\", pa.string()),\n",
    "        (\"SoftwareVersions\", pa.string()),\n",
    "        (\"Visibility\", pa.string()),\n",
    "        (\"ImageCount\", pa.int64()),\n",
    "        (\"PatientID\", pa.string()),\n",
    "        (\"gdc_case_id\", pa.string()),\n",
    "        (\"ProtocolName\", pa.string()),\n",
    "        (\"SeriesDescription\", pa.string()),\n",
    "        (\"embedding\", pa.binary()),\n",
    "        (\"embedding_shape\", pa.list_(pa.int64())),\n",
    "        (\"__index_level_0__\", pa.int64()),\n",
    "    ]\n",
    ")\n",
    "\n",
    "df[\"embedding\"] = None\n",
    "df[\"embedding_shape\"] = None\n",
    "writer = None\n",
    "for index, row in tqdm(df.iterrows(), total=len(df), desc=\"Processing\"):\n",
    "    try:\n",
    "        file_path = f\"{DATA_DIR}/raw/{row['PatientID']}/{MODALITY}/{row['SeriesInstanceUID']}/{row['SeriesInstanceUID']}\"\n",
    "        scanner = Scan(file_path, modality=\"CT\")\n",
    "        patches = scanner.load_patches(target_patch_size=448)\n",
    "        embedding = REMEDIS.load_model_and_predict(embedding_model_path, patches)\n",
    "        df.at[index, \"embedding_shape\"] = embedding.shape\n",
    "        embedding = embedding.reshape(-1)\n",
    "        embedding = embedding.tobytes()\n",
    "        df.at[index, \"embedding\"] = embedding\n",
    "    except Exception as e:\n",
    "        print(f\"\\033[91mError: {e}\\033[0m\")\n",
    "        df.at[index, \"embedding\"] = None\n",
    "        scanner = None\n",
    "        patches = None\n",
    "        embedding = None\n",
    "        table = None\n",
    "\n",
    "    if writer is None:\n",
    "        table = pa.Table.from_pandas(df.iloc[[index]])\n",
    "        writer = pq.ParquetWriter(PARQUET, schema)\n",
    "    else:\n",
    "        table = pa.Table.from_pandas(df.iloc[[index]], schema=schema)\n",
    "        writer.write_table(table)\n",
    "\n",
    "    del scanner, patches, embedding, table\n",
    "    gc.collect()\n",
    "    torch.cuda.empty_cache()\n",
    "\n",
    "if writer is not None:\n",
    "    writer.close()"
   ]
  },
  {
   "cell_type": "markdown",
   "metadata": {},
   "source": [
    "## Clinical Data"
   ]
  },
  {
   "cell_type": "code",
   "execution_count": null,
   "metadata": {},
   "outputs": [],
   "source": [
    "def process_group(group):\n",
    "    common_fields = {}\n",
    "    nested_objects = []\n",
    "    for col in group.columns:\n",
    "        unique_values = group[col].dropna().unique()\n",
    "        if len(unique_values) == 1:\n",
    "            # If only one unique value exists, it's a common field\n",
    "            common_fields[col] = unique_values[0]\n",
    "\n",
    "    # Create nested objects for fields that are not common\n",
    "    for idx, row in group.iterrows():\n",
    "        nested_object = {\n",
    "            col: row[col]\n",
    "            for col in group.columns\n",
    "            if col not in common_fields and pd.notna(row[col])\n",
    "        }\n",
    "        if nested_object:  # Only add if the nested object is not empty\n",
    "            nested_objects.append(nested_object)\n",
    "\n",
    "    return common_fields, nested_objects\n",
    "\n",
    "\n",
    "PROJECTS = [\n",
    "    \"TCGA-ACC\",\n",
    "    \"TCGA-COAD\",\n",
    "    \"TCGA-KICH\",\n",
    "    \"TCGA-LIHC\",\n",
    "    \"TCGA-PAAD\",\n",
    "    \"TCGA-SKCM\",\n",
    "    \"TCGA-UCEC\",\n",
    "    \"TCGA-BLCA\",\n",
    "    \"TCGA-DLBC\",\n",
    "    \"TCGA-KIRC\",\n",
    "    \"TCGA-LUAD\",\n",
    "    \"TCGA-PCPG\",\n",
    "    \"TCGA-STAD\",\n",
    "    \"TCGA-UCS\",\n",
    "    \"TCGA-BRCA\",\n",
    "    \"TCGA-ESCA\",\n",
    "    \"TCGA-KIRP\",\n",
    "    \"TCGA-LUSC\",\n",
    "    \"TCGA-PRAD\",\n",
    "    \"TCGA-TGCT\",\n",
    "    \"TCGA-UVM\",\n",
    "    \"TCGA-CESC\",\n",
    "    \"TCGA-GBM\",\n",
    "    \"TCGA-LAML\",\n",
    "    \"TCGA-MESO\",\n",
    "    \"TCGA-READ\",\n",
    "    \"TCGA-THCA\",\n",
    "    \"TCGA-CHOL\",\n",
    "    \"TCGA-HNSC\",\n",
    "    \"TCGA-LGG\",\n",
    "    \"TCGA-OV\",\n",
    "    \"TCGA-SARC\",\n",
    "    \"TCGA-THYM\",\n",
    "]\n",
    "\n",
    "embedding_model = HuggingFaceEmbedder(model_name=\"UFNLP/gatortron-medium\")\n",
    "\n",
    "for PROJECT in PROJECTS:\n",
    "    print(f\"Processing {PROJECT}\")\n",
    "    DATA_DIR = f\"/mnt/d/TCGA/raw/{PROJECT}\"\n",
    "    MANIFEST_PATH = DATA_DIR + \"/manifest.json\"\n",
    "    MODALITY = \"Clinical Data\"\n",
    "    PARQUET = f\"/mnt/d/TCGA/parquet/{PROJECT}/{MODALITY}.parquet\"\n",
    "\n",
    "    tables = minds.get_tables()\n",
    "    json_objects = {}\n",
    "    for table in tqdm(tables, desc=\"Getting data from tables\"):\n",
    "        query = f\"SELECT * FROM minds.{table} WHERE project_id='{PROJECT}'\"\n",
    "        df = minds.query(query)\n",
    "        for case_id, group in tqdm(df.groupby(\"case_submitter_id\"), leave=False):\n",
    "            if case_id not in json_objects:\n",
    "                json_objects[case_id] = {}\n",
    "            common_fields, nested_objects = process_group(group)\n",
    "            json_objects[case_id].update(common_fields)\n",
    "            json_objects[case_id][table] = nested_objects\n",
    "\n",
    "    df = []\n",
    "    for case_id, patient_data in tqdm(json_objects.items()):\n",
    "        summary = generate_summary_from_json(patient_data)\n",
    "        if len(summary) > 0:\n",
    "            summary_chunks = get_chunk_text(summary)\n",
    "            chunk_embeddings = []\n",
    "            for chunk in summary_chunks:\n",
    "                chunk_embedding = embedding_model.generate_embeddings([chunk])\n",
    "                chunk_embeddings.append(chunk_embedding)\n",
    "            clinical_embedding = np.array(chunk_embeddings)\n",
    "        else:\n",
    "            clinical_embedding = None\n",
    "        patient_data[\"text\"] = summary\n",
    "        patient_data[\"embedding_shape\"] = clinical_embedding.shape\n",
    "        clinical_embedding = clinical_embedding.reshape(-1)\n",
    "        clinical_embedding = np.array(clinical_embedding, dtype=np.float32)\n",
    "        clinical_embedding = clinical_embedding.tobytes()\n",
    "        patient_data[\"embedding\"] = clinical_embedding\n",
    "        # Create a new dictionary for DataFrame conversion, excluding lists\n",
    "        patient_data_for_df = {\n",
    "            key: value\n",
    "            for key, value in patient_data.items()\n",
    "            if not isinstance(value, list)\n",
    "        }\n",
    "        df.append(patient_data_for_df)\n",
    "\n",
    "    clinical_df = pd.DataFrame(df)\n",
    "    clinical_df.to_parquet(PARQUET, index=False)"
   ]
  },
  {
   "cell_type": "markdown",
   "metadata": {},
   "source": [
    "## Uploading datasets to huggingface"
   ]
  },
  {
   "cell_type": "markdown",
   "metadata": {},
   "source": [
    "### Upload the Local HF datasets to HuggingFace datasets hub"
   ]
  },
  {
   "cell_type": "code",
   "execution_count": null,
   "metadata": {},
   "outputs": [],
   "source": [
    "# api = HfApi()\n",
    "# api.upload_folder(\n",
    "#     folder_path=\"/mnt/d/TCGA-LUAD/parquet/\",\n",
    "#     repo_id=\"aakashtripathi/TCGA-LUAD\",\n",
    "#     repo_type=\"dataset\",\n",
    "#     multi_commits=True,\n",
    "#     multi_commits_verbose=True,\n",
    "# )"
   ]
  },
  {
   "cell_type": "markdown",
   "metadata": {},
   "source": [
    "## Loading Dataset from HuggingFace into PyTorch Dataloader"
   ]
  },
  {
   "cell_type": "code",
   "execution_count": null,
   "metadata": {},
   "outputs": [],
   "source": []
  }
 ],
 "metadata": {
  "kernelspec": {
   "display_name": "honeybee",
   "language": "python",
   "name": "python3"
  },
  "language_info": {
   "codemirror_mode": {
    "name": "ipython",
    "version": 3
   },
   "file_extension": ".py",
   "mimetype": "text/x-python",
   "name": "python",
   "nbconvert_exporter": "python",
   "pygments_lexer": "ipython3",
   "version": "3.11.9"
  }
 },
 "nbformat": 4,
 "nbformat_minor": 2
}
